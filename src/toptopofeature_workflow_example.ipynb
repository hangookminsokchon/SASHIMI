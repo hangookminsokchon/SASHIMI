{
 "cells": [
  {
   "cell_type": "code",
   "execution_count": 3,
   "id": "0c92a6cc",
   "metadata": {},
   "outputs": [],
   "source": [
    "# Import the TopoFeature module\n",
    "import pandas as pd\n",
    "from src.topological_features import TopoFeature as topo"
   ]
  },
  {
   "cell_type": "code",
   "execution_count": null,
   "id": "1013e4a2",
   "metadata": {},
   "outputs": [],
   "source": [
    "# Load image\n",
    "img_path = \"input_example2_nlst.csv\"\n",
    "\n",
    "# Compute Topological features and return a 1-row data frame of summary statistics\n",
    "df = topo().compute_all_features(img_dir = img_path, exclude_infinite=True)\n",
    "df.to_csv('output_example_topological1.csv')\n",
    "\n",
    "# Likewise, compute topological features, but calculats the summary statistics by dimension,\n",
    "df_dim = topo().compute_features_by_dimension(img_dir = img_path, dimensions=[0, 1], exclude_infinite=True)\n",
    "df_dim.to_csv('output_example_topological2.csv')\n"
   ]
  }
 ],
 "metadata": {
  "kernelspec": {
   "display_name": "ds-env",
   "language": "python",
   "name": "python3"
  },
  "language_info": {
   "codemirror_mode": {
    "name": "ipython",
    "version": 3
   },
   "file_extension": ".py",
   "mimetype": "text/x-python",
   "name": "python",
   "nbconvert_exporter": "python",
   "pygments_lexer": "ipython3",
   "version": "3.11.13"
  }
 },
 "nbformat": 4,
 "nbformat_minor": 5
}
