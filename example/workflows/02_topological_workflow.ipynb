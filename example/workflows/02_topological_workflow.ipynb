{
 "cells": [
  {
   "cell_type": "code",
   "execution_count": 1,
   "id": "0c92a6cc",
   "metadata": {},
   "outputs": [],
   "source": [
    "# Import the TopoFeature module\n",
    "import pandas as pd\n",
    "from src.topological_features import TopoFeature"
   ]
  },
  {
   "cell_type": "code",
   "execution_count": null,
   "id": "1013e4a2",
   "metadata": {},
   "outputs": [],
   "source": [
    "# Load image\n",
    "img_path = \"/Users/yoolkyupark/Main/Qiwei_Lab/example_point_patternB.csv\"\n",
    "\n",
    "topo = TopoFeature()\n",
    "\n",
    "# Compute Topological features and return a 1-row data frame of summary statistics\n",
    "df = topo.compute_all_features(img_dir = img_path, exclude_infinite=True)\n",
    "df.to_csv('output_example_topological1.csv')\n",
    "\n",
    "# Likewise, compute topological features, but calculats the summary statistics by dimension,\n",
    "df_dim = topo.compute_features_by_dimension(img_dir = img_path, dimensions=[0, 1], exclude_infinite=True)\n",
    "df_dim.to_csv('output_example_topological2.csv')\n"
   ]
  },
  {
   "cell_type": "code",
   "execution_count": 19,
   "id": "40dc0107",
   "metadata": {},
   "outputs": [
    {
     "name": "stdout",
     "output_type": "stream",
     "text": [
      "   cubical_tumor_immune_birth_min  ...  witness_immune_stromal_n_features\n",
      "0                            17.0  ...                                 47\n",
      "\n",
      "[1 rows x 78 columns]\n",
      "   cubical_tumor_immune_h0_birth_min  ...  witness_immune_stromal_h1_n_features\n",
      "0                               17.0  ...                                    25\n",
      "\n",
      "[1 rows x 156 columns]\n"
     ]
    }
   ],
   "source": [
    "# Scalar output example\n",
    "print(df.head())\n",
    "print(df_dim.head())"
   ]
  }
 ],
 "metadata": {
  "kernelspec": {
   "display_name": "ds-env",
   "language": "python",
   "name": "python3"
  },
  "language_info": {
   "codemirror_mode": {
    "name": "ipython",
    "version": 3
   },
   "file_extension": ".py",
   "mimetype": "text/x-python",
   "name": "python",
   "nbconvert_exporter": "python",
   "pygments_lexer": "ipython3",
   "version": "3.11.13"
  }
 },
 "nbformat": 4,
 "nbformat_minor": 5
}
