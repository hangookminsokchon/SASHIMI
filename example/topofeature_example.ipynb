{
 "cells": [
  {
   "cell_type": "code",
   "execution_count": 3,
   "id": "0c92a6cc",
   "metadata": {},
   "outputs": [],
   "source": [
    "# Import the TopoFeature module\n",
    "import pandas as pd\n",
    "from src.topological_features import TopoFeature as topo"
   ]
  },
  {
   "cell_type": "code",
   "execution_count": null,
   "id": "1013e4a2",
   "metadata": {},
   "outputs": [
    {
     "name": "stderr",
     "output_type": "stream",
     "text": [
      "/Users/yoolkyupark/Main/Qiwei_Lab/SASHIMI/SASHIMI_web/src/topological_features.py:31: FutureWarning: Setting an item of incompatible dtype is deprecated and will raise an error in a future version of pandas. Value 'immune' has dtype incompatible with int64, please explicitly cast to a compatible dtype first.\n",
      "  labels[i] = 'immune'\n",
      "/Users/yoolkyupark/micromamba/envs/ds-env/lib/python3.11/site-packages/pandas/core/dtypes/common.py:1663: DeprecationWarning: Converting `np.integer` or `np.signedinteger` to a dtype is deprecated. The current result is `np.dtype(np.int_)` which is not strictly correct. Note that the result depends on the system. To ensure stable results use may want to use `np.int64` or `np.int32`.\n",
      "  npdtype = np.dtype(dtype)\n",
      "/Users/yoolkyupark/micromamba/envs/ds-env/lib/python3.11/site-packages/pandas/core/dtypes/common.py:1663: DeprecationWarning: Converting `np.integer` or `np.signedinteger` to a dtype is deprecated. The current result is `np.dtype(np.int_)` which is not strictly correct. Note that the result depends on the system. To ensure stable results use may want to use `np.int64` or `np.int32`.\n",
      "  npdtype = np.dtype(dtype)\n",
      "/Users/yoolkyupark/micromamba/envs/ds-env/lib/python3.11/site-packages/pandas/core/dtypes/common.py:1663: DeprecationWarning: Converting `np.integer` or `np.signedinteger` to a dtype is deprecated. The current result is `np.dtype(np.int_)` which is not strictly correct. Note that the result depends on the system. To ensure stable results use may want to use `np.int64` or `np.int32`.\n",
      "  npdtype = np.dtype(dtype)\n",
      "/Users/yoolkyupark/micromamba/envs/ds-env/lib/python3.11/site-packages/pandas/core/dtypes/common.py:1663: DeprecationWarning: Converting `np.integer` or `np.signedinteger` to a dtype is deprecated. The current result is `np.dtype(np.int_)` which is not strictly correct. Note that the result depends on the system. To ensure stable results use may want to use `np.int64` or `np.int32`.\n",
      "  npdtype = np.dtype(dtype)\n",
      "/Users/yoolkyupark/micromamba/envs/ds-env/lib/python3.11/site-packages/pandas/core/dtypes/common.py:1663: DeprecationWarning: Converting `np.integer` or `np.signedinteger` to a dtype is deprecated. The current result is `np.dtype(np.int_)` which is not strictly correct. Note that the result depends on the system. To ensure stable results use may want to use `np.int64` or `np.int32`.\n",
      "  npdtype = np.dtype(dtype)\n",
      "/Users/yoolkyupark/micromamba/envs/ds-env/lib/python3.11/site-packages/pandas/core/dtypes/common.py:1663: DeprecationWarning: Converting `np.integer` or `np.signedinteger` to a dtype is deprecated. The current result is `np.dtype(np.int_)` which is not strictly correct. Note that the result depends on the system. To ensure stable results use may want to use `np.int64` or `np.int32`.\n",
      "  npdtype = np.dtype(dtype)\n",
      "/Users/yoolkyupark/Main/Qiwei_Lab/SASHIMI/SASHIMI_web/src/topological_features.py:31: FutureWarning: Setting an item of incompatible dtype is deprecated and will raise an error in a future version of pandas. Value 'immune' has dtype incompatible with int64, please explicitly cast to a compatible dtype first.\n",
      "  labels[i] = 'immune'\n",
      "/Users/yoolkyupark/micromamba/envs/ds-env/lib/python3.11/site-packages/pandas/core/dtypes/common.py:1663: DeprecationWarning: Converting `np.integer` or `np.signedinteger` to a dtype is deprecated. The current result is `np.dtype(np.int_)` which is not strictly correct. Note that the result depends on the system. To ensure stable results use may want to use `np.int64` or `np.int32`.\n",
      "  npdtype = np.dtype(dtype)\n",
      "/Users/yoolkyupark/micromamba/envs/ds-env/lib/python3.11/site-packages/pandas/core/dtypes/common.py:1663: DeprecationWarning: Converting `np.integer` or `np.signedinteger` to a dtype is deprecated. The current result is `np.dtype(np.int_)` which is not strictly correct. Note that the result depends on the system. To ensure stable results use may want to use `np.int64` or `np.int32`.\n",
      "  npdtype = np.dtype(dtype)\n",
      "/Users/yoolkyupark/micromamba/envs/ds-env/lib/python3.11/site-packages/pandas/core/dtypes/common.py:1663: DeprecationWarning: Converting `np.integer` or `np.signedinteger` to a dtype is deprecated. The current result is `np.dtype(np.int_)` which is not strictly correct. Note that the result depends on the system. To ensure stable results use may want to use `np.int64` or `np.int32`.\n",
      "  npdtype = np.dtype(dtype)\n",
      "/Users/yoolkyupark/micromamba/envs/ds-env/lib/python3.11/site-packages/pandas/core/dtypes/common.py:1663: DeprecationWarning: Converting `np.integer` or `np.signedinteger` to a dtype is deprecated. The current result is `np.dtype(np.int_)` which is not strictly correct. Note that the result depends on the system. To ensure stable results use may want to use `np.int64` or `np.int32`.\n",
      "  npdtype = np.dtype(dtype)\n",
      "/Users/yoolkyupark/micromamba/envs/ds-env/lib/python3.11/site-packages/pandas/core/dtypes/common.py:1663: DeprecationWarning: Converting `np.integer` or `np.signedinteger` to a dtype is deprecated. The current result is `np.dtype(np.int_)` which is not strictly correct. Note that the result depends on the system. To ensure stable results use may want to use `np.int64` or `np.int32`.\n",
      "  npdtype = np.dtype(dtype)\n",
      "/Users/yoolkyupark/micromamba/envs/ds-env/lib/python3.11/site-packages/pandas/core/dtypes/common.py:1663: DeprecationWarning: Converting `np.integer` or `np.signedinteger` to a dtype is deprecated. The current result is `np.dtype(np.int_)` which is not strictly correct. Note that the result depends on the system. To ensure stable results use may want to use `np.int64` or `np.int32`.\n",
      "  npdtype = np.dtype(dtype)\n"
     ]
    }
   ],
   "source": [
    "# Load image\n",
    "img_path = \"input_example2_nlst.csv\"\n",
    "\n",
    "# Compute Topological features and return a 1-row data frame of summary statistics\n",
    "df = topo().compute_all_features(img_dir = img_path, exclude_infinite=True)\n",
    "df.to_csv('output_example_topological1.csv')\n",
    "\n",
    "# Likewise, compute topological features, but calculats the summary statistics by dimension,\n",
    "df_dim = topo().compute_features_by_dimension(img_dir = img_path, dimensions=[0, 1], exclude_infinite=True)\n",
    "df_dim.to_csv('output_example_topological2.csv')\n"
   ]
  },
  {
   "cell_type": "code",
   "execution_count": null,
   "id": "ecb06be7",
   "metadata": {},
   "outputs": [],
   "source": []
  }
 ],
 "metadata": {
  "kernelspec": {
   "display_name": "ds-env",
   "language": "python",
   "name": "python3"
  },
  "language_info": {
   "codemirror_mode": {
    "name": "ipython",
    "version": 3
   },
   "file_extension": ".py",
   "mimetype": "text/x-python",
   "name": "python",
   "nbconvert_exporter": "python",
   "pygments_lexer": "ipython3",
   "version": "3.11.13"
  }
 },
 "nbformat": 4,
 "nbformat_minor": 5
}
